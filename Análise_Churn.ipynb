{
  "nbformat": 4,
  "nbformat_minor": 0,
  "metadata": {
    "colab": {
      "provenance": [],
      "authorship_tag": "ABX9TyN8QZiJj1lZPhs5Rg64qg7j",
      "include_colab_link": true
    },
    "kernelspec": {
      "name": "python3",
      "display_name": "Python 3"
    },
    "language_info": {
      "name": "python"
    }
  },
  "cells": [
    {
      "cell_type": "markdown",
      "metadata": {
        "id": "view-in-github",
        "colab_type": "text"
      },
      "source": [
        "<a href=\"https://colab.research.google.com/github/wellennasci/projetos_portfolio/blob/main/An%C3%A1lise_Churn.ipynb\" target=\"_parent\"><img src=\"https://colab.research.google.com/assets/colab-badge.svg\" alt=\"Open In Colab\"/></a>"
      ]
    },
    {
      "cell_type": "markdown",
      "source": [
        "# **Análise Churn**"
      ],
      "metadata": {
        "id": "N0chOkSrg2Oc"
      }
    },
    {
      "cell_type": "markdown",
      "source": [
        "---\n",
        "# **Informações gerais**\n",
        "\n",
        "**Autora:** Wellen Nascimento\n",
        "\n",
        "**Linkedin:** https://www.linkedin.com/in/wellen/\n",
        "\n",
        "**Data:** 22/03/2024"
      ],
      "metadata": {
        "id": "qAoP1_AZngs_"
      }
    },
    {
      "cell_type": "markdown",
      "source": [
        "---\n",
        "#**Conhecendo os dados**"
      ],
      "metadata": {
        "id": "YjgGG6QqoeTE"
      }
    },
    {
      "cell_type": "markdown",
      "source": [
        "##Fonte dos Dados\n",
        "\n",
        "https://www.kaggle.com/datasets/muhammadshahidazeem/customer-churn-dataset\n",
        "\n",
        "O arquivo foi extraído do site Kaggle e consiste em registros de clientes que abrangem uma variedade de características e comportamentos. Cada registro representa um cliente e inclui informações como idade, sexo, posse, frequência de uso, chamadas de suporte, atraso de pagamento, tipo de assinatura, duração do contrato, gasto total e última interação.\n",
        "\n",
        "Estes dados fornecem uma visão do relacionamento entre a empresa e seus clientes, permitindo uma análise detalhada do churn e insights sobre padrões de comportamento e preferências. Ao compreender melhor esses dados, podemos desenvolver estratégias eficazes de retenção de clientes e melhorar a experiência geral do cliente.\n",
        "\n",
        "Vamos explorar mais a fundo esses dados e descobrir as tendências que podem nos ajudar a impulsionar o crescimento e o sucesso da empresa."
      ],
      "metadata": {
        "id": "HLycAV-bpKh4"
      }
    },
    {
      "cell_type": "markdown",
      "source": [
        "\n",
        "##Dicionário dos dados\n",
        "\n",
        "**CustomerID (ID do Cliente):** Um identificador único atribuído a cada cliente na base de dados.\n",
        "\n",
        "**Age (Idade do Cliente):** A idade do cliente registrada no momento da análise.\n",
        "\n",
        "**Gender (Gênero):** O gênero do cliente, podendo ser masculino, feminino ou outra categoria, se aplicável.\n",
        "\n",
        "**Tenure:** O período de tempo que o cliente permaneceu como assinante ou cliente da empresa, geralmente medido em meses.\n",
        "\n",
        "**Usage (Uso):** A quantidade de uso ou consumo dos serviços ou produtos oferecidos pela empresa pelo cliente durante um determinado período de tempo.\n",
        "\n",
        "**Frequency (Frequência):** A frequência com que o cliente utiliza os serviços ou produtos da empresa durante um determinado período de tempo.\n",
        "\n",
        "**Support Calls (Chamadas de Suporte):** O número de chamadas de suporte ou assistência técnica feitas pelo cliente durante um período de tempo específico.\n",
        "\n",
        "**Payment (Pagamento):** O método de pagamento utilizado pelo cliente para pagar pelos serviços ou produtos fornecidos pela empresa.\n",
        "\n",
        "**Delay (Atraso):** Qualquer atraso no pagamento ou inadimplência do cliente em relação aos serviços ou produtos adquiridos.\n",
        "\n",
        "**Subscription Type (Tipo de Assinatura):** O tipo de assinatura ou plano de serviço escolhido pelo cliente, por exemplo, plano básico, plano premium, etc.\n",
        "\n",
        "**Contract Length (Duração do Contrato):** O período de tempo especificado pelo contrato de serviço entre a empresa e o cliente.\n",
        "\n",
        "**Total Spend (Gasto Total):** O valor total gasto pelo cliente em serviços ou produtos da empresa durante o período de tempo considerado.\n",
        "\n",
        "**Last Interaction (Última Interação):** A data da última interação registrada entre o cliente e a empresa, como uma compra, uma chamada de suporte, etc.\n",
        "\n",
        "**Churn:** Variável binária que indica se o cliente cancelou o serviço ou produto da empresa (1 para churn, 0 para não churn).\n"
      ],
      "metadata": {
        "id": "0Sv3hz2_e7as"
      }
    },
    {
      "cell_type": "code",
      "execution_count": 2,
      "metadata": {
        "id": "0OJXm0rTeFCj"
      },
      "outputs": [],
      "source": [
        "#importando as bibliotecas\n",
        "import pandas as pd\n",
        "import numpy as np\n",
        "import plotly.express as px\n",
        "import matplotlib.pyplot as plt\n",
        "import seaborn as sns\n",
        "import scipy.stats\n",
        "from scipy.stats import chi2_contingency"
      ]
    },
    {
      "cell_type": "code",
      "source": [
        "dados_churn = pd.read_csv('customer_churn_dataset-training-master.csv')"
      ],
      "metadata": {
        "id": "bTMX_XTleHt3"
      },
      "execution_count": 3,
      "outputs": []
    },
    {
      "cell_type": "markdown",
      "source": [
        "#**Análise exploratória**\n"
      ],
      "metadata": {
        "id": "U_ZKCRiEjtpI"
      }
    },
    {
      "cell_type": "code",
      "source": [
        "dados_churn.head()"
      ],
      "metadata": {
        "colab": {
          "base_uri": "https://localhost:8080/",
          "height": 206
        },
        "id": "osOHys5XeHwh",
        "outputId": "529b5040-9f02-4c11-9365-fa63f6a495aa"
      },
      "execution_count": 4,
      "outputs": [
        {
          "output_type": "execute_result",
          "data": {
            "text/plain": [
              "   CustomerID   Age  Gender  Tenure  Usage Frequency  Support Calls  \\\n",
              "0         2.0  30.0  Female    39.0             14.0            5.0   \n",
              "1         3.0  65.0  Female    49.0              1.0           10.0   \n",
              "2         4.0  55.0  Female    14.0              4.0            6.0   \n",
              "3         5.0  58.0    Male    38.0             21.0            7.0   \n",
              "4         6.0  23.0    Male    32.0             20.0            5.0   \n",
              "\n",
              "   Payment Delay Subscription Type Contract Length  Total Spend  \\\n",
              "0           18.0          Standard          Annual        932.0   \n",
              "1            8.0             Basic         Monthly        557.0   \n",
              "2           18.0             Basic       Quarterly        185.0   \n",
              "3            7.0          Standard         Monthly        396.0   \n",
              "4            8.0             Basic         Monthly        617.0   \n",
              "\n",
              "   Last Interaction  Churn  \n",
              "0              17.0    1.0  \n",
              "1               6.0    1.0  \n",
              "2               3.0    1.0  \n",
              "3              29.0    1.0  \n",
              "4              20.0    1.0  "
            ],
            "text/html": [
              "\n",
              "  <div id=\"df-860c5986-0788-4d88-a37a-7726c3761ce3\" class=\"colab-df-container\">\n",
              "    <div>\n",
              "<style scoped>\n",
              "    .dataframe tbody tr th:only-of-type {\n",
              "        vertical-align: middle;\n",
              "    }\n",
              "\n",
              "    .dataframe tbody tr th {\n",
              "        vertical-align: top;\n",
              "    }\n",
              "\n",
              "    .dataframe thead th {\n",
              "        text-align: right;\n",
              "    }\n",
              "</style>\n",
              "<table border=\"1\" class=\"dataframe\">\n",
              "  <thead>\n",
              "    <tr style=\"text-align: right;\">\n",
              "      <th></th>\n",
              "      <th>CustomerID</th>\n",
              "      <th>Age</th>\n",
              "      <th>Gender</th>\n",
              "      <th>Tenure</th>\n",
              "      <th>Usage Frequency</th>\n",
              "      <th>Support Calls</th>\n",
              "      <th>Payment Delay</th>\n",
              "      <th>Subscription Type</th>\n",
              "      <th>Contract Length</th>\n",
              "      <th>Total Spend</th>\n",
              "      <th>Last Interaction</th>\n",
              "      <th>Churn</th>\n",
              "    </tr>\n",
              "  </thead>\n",
              "  <tbody>\n",
              "    <tr>\n",
              "      <th>0</th>\n",
              "      <td>2.0</td>\n",
              "      <td>30.0</td>\n",
              "      <td>Female</td>\n",
              "      <td>39.0</td>\n",
              "      <td>14.0</td>\n",
              "      <td>5.0</td>\n",
              "      <td>18.0</td>\n",
              "      <td>Standard</td>\n",
              "      <td>Annual</td>\n",
              "      <td>932.0</td>\n",
              "      <td>17.0</td>\n",
              "      <td>1.0</td>\n",
              "    </tr>\n",
              "    <tr>\n",
              "      <th>1</th>\n",
              "      <td>3.0</td>\n",
              "      <td>65.0</td>\n",
              "      <td>Female</td>\n",
              "      <td>49.0</td>\n",
              "      <td>1.0</td>\n",
              "      <td>10.0</td>\n",
              "      <td>8.0</td>\n",
              "      <td>Basic</td>\n",
              "      <td>Monthly</td>\n",
              "      <td>557.0</td>\n",
              "      <td>6.0</td>\n",
              "      <td>1.0</td>\n",
              "    </tr>\n",
              "    <tr>\n",
              "      <th>2</th>\n",
              "      <td>4.0</td>\n",
              "      <td>55.0</td>\n",
              "      <td>Female</td>\n",
              "      <td>14.0</td>\n",
              "      <td>4.0</td>\n",
              "      <td>6.0</td>\n",
              "      <td>18.0</td>\n",
              "      <td>Basic</td>\n",
              "      <td>Quarterly</td>\n",
              "      <td>185.0</td>\n",
              "      <td>3.0</td>\n",
              "      <td>1.0</td>\n",
              "    </tr>\n",
              "    <tr>\n",
              "      <th>3</th>\n",
              "      <td>5.0</td>\n",
              "      <td>58.0</td>\n",
              "      <td>Male</td>\n",
              "      <td>38.0</td>\n",
              "      <td>21.0</td>\n",
              "      <td>7.0</td>\n",
              "      <td>7.0</td>\n",
              "      <td>Standard</td>\n",
              "      <td>Monthly</td>\n",
              "      <td>396.0</td>\n",
              "      <td>29.0</td>\n",
              "      <td>1.0</td>\n",
              "    </tr>\n",
              "    <tr>\n",
              "      <th>4</th>\n",
              "      <td>6.0</td>\n",
              "      <td>23.0</td>\n",
              "      <td>Male</td>\n",
              "      <td>32.0</td>\n",
              "      <td>20.0</td>\n",
              "      <td>5.0</td>\n",
              "      <td>8.0</td>\n",
              "      <td>Basic</td>\n",
              "      <td>Monthly</td>\n",
              "      <td>617.0</td>\n",
              "      <td>20.0</td>\n",
              "      <td>1.0</td>\n",
              "    </tr>\n",
              "  </tbody>\n",
              "</table>\n",
              "</div>\n",
              "    <div class=\"colab-df-buttons\">\n",
              "\n",
              "  <div class=\"colab-df-container\">\n",
              "    <button class=\"colab-df-convert\" onclick=\"convertToInteractive('df-860c5986-0788-4d88-a37a-7726c3761ce3')\"\n",
              "            title=\"Convert this dataframe to an interactive table.\"\n",
              "            style=\"display:none;\">\n",
              "\n",
              "  <svg xmlns=\"http://www.w3.org/2000/svg\" height=\"24px\" viewBox=\"0 -960 960 960\">\n",
              "    <path d=\"M120-120v-720h720v720H120Zm60-500h600v-160H180v160Zm220 220h160v-160H400v160Zm0 220h160v-160H400v160ZM180-400h160v-160H180v160Zm440 0h160v-160H620v160ZM180-180h160v-160H180v160Zm440 0h160v-160H620v160Z\"/>\n",
              "  </svg>\n",
              "    </button>\n",
              "\n",
              "  <style>\n",
              "    .colab-df-container {\n",
              "      display:flex;\n",
              "      gap: 12px;\n",
              "    }\n",
              "\n",
              "    .colab-df-convert {\n",
              "      background-color: #E8F0FE;\n",
              "      border: none;\n",
              "      border-radius: 50%;\n",
              "      cursor: pointer;\n",
              "      display: none;\n",
              "      fill: #1967D2;\n",
              "      height: 32px;\n",
              "      padding: 0 0 0 0;\n",
              "      width: 32px;\n",
              "    }\n",
              "\n",
              "    .colab-df-convert:hover {\n",
              "      background-color: #E2EBFA;\n",
              "      box-shadow: 0px 1px 2px rgba(60, 64, 67, 0.3), 0px 1px 3px 1px rgba(60, 64, 67, 0.15);\n",
              "      fill: #174EA6;\n",
              "    }\n",
              "\n",
              "    .colab-df-buttons div {\n",
              "      margin-bottom: 4px;\n",
              "    }\n",
              "\n",
              "    [theme=dark] .colab-df-convert {\n",
              "      background-color: #3B4455;\n",
              "      fill: #D2E3FC;\n",
              "    }\n",
              "\n",
              "    [theme=dark] .colab-df-convert:hover {\n",
              "      background-color: #434B5C;\n",
              "      box-shadow: 0px 1px 3px 1px rgba(0, 0, 0, 0.15);\n",
              "      filter: drop-shadow(0px 1px 2px rgba(0, 0, 0, 0.3));\n",
              "      fill: #FFFFFF;\n",
              "    }\n",
              "  </style>\n",
              "\n",
              "    <script>\n",
              "      const buttonEl =\n",
              "        document.querySelector('#df-860c5986-0788-4d88-a37a-7726c3761ce3 button.colab-df-convert');\n",
              "      buttonEl.style.display =\n",
              "        google.colab.kernel.accessAllowed ? 'block' : 'none';\n",
              "\n",
              "      async function convertToInteractive(key) {\n",
              "        const element = document.querySelector('#df-860c5986-0788-4d88-a37a-7726c3761ce3');\n",
              "        const dataTable =\n",
              "          await google.colab.kernel.invokeFunction('convertToInteractive',\n",
              "                                                    [key], {});\n",
              "        if (!dataTable) return;\n",
              "\n",
              "        const docLinkHtml = 'Like what you see? Visit the ' +\n",
              "          '<a target=\"_blank\" href=https://colab.research.google.com/notebooks/data_table.ipynb>data table notebook</a>'\n",
              "          + ' to learn more about interactive tables.';\n",
              "        element.innerHTML = '';\n",
              "        dataTable['output_type'] = 'display_data';\n",
              "        await google.colab.output.renderOutput(dataTable, element);\n",
              "        const docLink = document.createElement('div');\n",
              "        docLink.innerHTML = docLinkHtml;\n",
              "        element.appendChild(docLink);\n",
              "      }\n",
              "    </script>\n",
              "  </div>\n",
              "\n",
              "\n",
              "<div id=\"df-7647a2de-0004-4093-b3ad-712c7df94d75\">\n",
              "  <button class=\"colab-df-quickchart\" onclick=\"quickchart('df-7647a2de-0004-4093-b3ad-712c7df94d75')\"\n",
              "            title=\"Suggest charts\"\n",
              "            style=\"display:none;\">\n",
              "\n",
              "<svg xmlns=\"http://www.w3.org/2000/svg\" height=\"24px\"viewBox=\"0 0 24 24\"\n",
              "     width=\"24px\">\n",
              "    <g>\n",
              "        <path d=\"M19 3H5c-1.1 0-2 .9-2 2v14c0 1.1.9 2 2 2h14c1.1 0 2-.9 2-2V5c0-1.1-.9-2-2-2zM9 17H7v-7h2v7zm4 0h-2V7h2v10zm4 0h-2v-4h2v4z\"/>\n",
              "    </g>\n",
              "</svg>\n",
              "  </button>\n",
              "\n",
              "<style>\n",
              "  .colab-df-quickchart {\n",
              "      --bg-color: #E8F0FE;\n",
              "      --fill-color: #1967D2;\n",
              "      --hover-bg-color: #E2EBFA;\n",
              "      --hover-fill-color: #174EA6;\n",
              "      --disabled-fill-color: #AAA;\n",
              "      --disabled-bg-color: #DDD;\n",
              "  }\n",
              "\n",
              "  [theme=dark] .colab-df-quickchart {\n",
              "      --bg-color: #3B4455;\n",
              "      --fill-color: #D2E3FC;\n",
              "      --hover-bg-color: #434B5C;\n",
              "      --hover-fill-color: #FFFFFF;\n",
              "      --disabled-bg-color: #3B4455;\n",
              "      --disabled-fill-color: #666;\n",
              "  }\n",
              "\n",
              "  .colab-df-quickchart {\n",
              "    background-color: var(--bg-color);\n",
              "    border: none;\n",
              "    border-radius: 50%;\n",
              "    cursor: pointer;\n",
              "    display: none;\n",
              "    fill: var(--fill-color);\n",
              "    height: 32px;\n",
              "    padding: 0;\n",
              "    width: 32px;\n",
              "  }\n",
              "\n",
              "  .colab-df-quickchart:hover {\n",
              "    background-color: var(--hover-bg-color);\n",
              "    box-shadow: 0 1px 2px rgba(60, 64, 67, 0.3), 0 1px 3px 1px rgba(60, 64, 67, 0.15);\n",
              "    fill: var(--button-hover-fill-color);\n",
              "  }\n",
              "\n",
              "  .colab-df-quickchart-complete:disabled,\n",
              "  .colab-df-quickchart-complete:disabled:hover {\n",
              "    background-color: var(--disabled-bg-color);\n",
              "    fill: var(--disabled-fill-color);\n",
              "    box-shadow: none;\n",
              "  }\n",
              "\n",
              "  .colab-df-spinner {\n",
              "    border: 2px solid var(--fill-color);\n",
              "    border-color: transparent;\n",
              "    border-bottom-color: var(--fill-color);\n",
              "    animation:\n",
              "      spin 1s steps(1) infinite;\n",
              "  }\n",
              "\n",
              "  @keyframes spin {\n",
              "    0% {\n",
              "      border-color: transparent;\n",
              "      border-bottom-color: var(--fill-color);\n",
              "      border-left-color: var(--fill-color);\n",
              "    }\n",
              "    20% {\n",
              "      border-color: transparent;\n",
              "      border-left-color: var(--fill-color);\n",
              "      border-top-color: var(--fill-color);\n",
              "    }\n",
              "    30% {\n",
              "      border-color: transparent;\n",
              "      border-left-color: var(--fill-color);\n",
              "      border-top-color: var(--fill-color);\n",
              "      border-right-color: var(--fill-color);\n",
              "    }\n",
              "    40% {\n",
              "      border-color: transparent;\n",
              "      border-right-color: var(--fill-color);\n",
              "      border-top-color: var(--fill-color);\n",
              "    }\n",
              "    60% {\n",
              "      border-color: transparent;\n",
              "      border-right-color: var(--fill-color);\n",
              "    }\n",
              "    80% {\n",
              "      border-color: transparent;\n",
              "      border-right-color: var(--fill-color);\n",
              "      border-bottom-color: var(--fill-color);\n",
              "    }\n",
              "    90% {\n",
              "      border-color: transparent;\n",
              "      border-bottom-color: var(--fill-color);\n",
              "    }\n",
              "  }\n",
              "</style>\n",
              "\n",
              "  <script>\n",
              "    async function quickchart(key) {\n",
              "      const quickchartButtonEl =\n",
              "        document.querySelector('#' + key + ' button');\n",
              "      quickchartButtonEl.disabled = true;  // To prevent multiple clicks.\n",
              "      quickchartButtonEl.classList.add('colab-df-spinner');\n",
              "      try {\n",
              "        const charts = await google.colab.kernel.invokeFunction(\n",
              "            'suggestCharts', [key], {});\n",
              "      } catch (error) {\n",
              "        console.error('Error during call to suggestCharts:', error);\n",
              "      }\n",
              "      quickchartButtonEl.classList.remove('colab-df-spinner');\n",
              "      quickchartButtonEl.classList.add('colab-df-quickchart-complete');\n",
              "    }\n",
              "    (() => {\n",
              "      let quickchartButtonEl =\n",
              "        document.querySelector('#df-7647a2de-0004-4093-b3ad-712c7df94d75 button');\n",
              "      quickchartButtonEl.style.display =\n",
              "        google.colab.kernel.accessAllowed ? 'block' : 'none';\n",
              "    })();\n",
              "  </script>\n",
              "</div>\n",
              "\n",
              "    </div>\n",
              "  </div>\n"
            ],
            "application/vnd.google.colaboratory.intrinsic+json": {
              "type": "dataframe",
              "variable_name": "dados_churn"
            }
          },
          "metadata": {},
          "execution_count": 4
        }
      ]
    },
    {
      "cell_type": "code",
      "source": [
        "dados_churn.info()"
      ],
      "metadata": {
        "colab": {
          "base_uri": "https://localhost:8080/"
        },
        "id": "tXHcSGhAhca_",
        "outputId": "3d70d26f-afb3-4870-d67a-4ea86af8da9e"
      },
      "execution_count": 5,
      "outputs": [
        {
          "output_type": "stream",
          "name": "stdout",
          "text": [
            "<class 'pandas.core.frame.DataFrame'>\n",
            "RangeIndex: 440833 entries, 0 to 440832\n",
            "Data columns (total 12 columns):\n",
            " #   Column             Non-Null Count   Dtype  \n",
            "---  ------             --------------   -----  \n",
            " 0   CustomerID         440832 non-null  float64\n",
            " 1   Age                440832 non-null  float64\n",
            " 2   Gender             440832 non-null  object \n",
            " 3   Tenure             440832 non-null  float64\n",
            " 4   Usage Frequency    440832 non-null  float64\n",
            " 5   Support Calls      440832 non-null  float64\n",
            " 6   Payment Delay      440832 non-null  float64\n",
            " 7   Subscription Type  440832 non-null  object \n",
            " 8   Contract Length    440832 non-null  object \n",
            " 9   Total Spend        440832 non-null  float64\n",
            " 10  Last Interaction   440832 non-null  float64\n",
            " 11  Churn              440832 non-null  float64\n",
            "dtypes: float64(9), object(3)\n",
            "memory usage: 40.4+ MB\n"
          ]
        }
      ]
    },
    {
      "cell_type": "code",
      "source": [
        "# Estatísticas descritivas das variáveis numéricas\n",
        "dados_churn.describe()"
      ],
      "metadata": {
        "colab": {
          "base_uri": "https://localhost:8080/",
          "height": 300
        },
        "id": "wJ7hC25GhhzT",
        "outputId": "3e16c013-4f66-42ee-d7cf-8a4bc2440e69"
      },
      "execution_count": 6,
      "outputs": [
        {
          "output_type": "execute_result",
          "data": {
            "text/plain": [
              "          CustomerID            Age         Tenure  Usage Frequency  \\\n",
              "count  440832.000000  440832.000000  440832.000000    440832.000000   \n",
              "mean   225398.667955      39.373153      31.256336        15.807494   \n",
              "std    129531.918550      12.442369      17.255727         8.586242   \n",
              "min         2.000000      18.000000       1.000000         1.000000   \n",
              "25%    113621.750000      29.000000      16.000000         9.000000   \n",
              "50%    226125.500000      39.000000      32.000000        16.000000   \n",
              "75%    337739.250000      48.000000      46.000000        23.000000   \n",
              "max    449999.000000      65.000000      60.000000        30.000000   \n",
              "\n",
              "       Support Calls  Payment Delay    Total Spend  Last Interaction  \\\n",
              "count  440832.000000  440832.000000  440832.000000     440832.000000   \n",
              "mean        3.604437      12.965722     631.616223         14.480868   \n",
              "std         3.070218       8.258063     240.803001          8.596208   \n",
              "min         0.000000       0.000000     100.000000          1.000000   \n",
              "25%         1.000000       6.000000     480.000000          7.000000   \n",
              "50%         3.000000      12.000000     661.000000         14.000000   \n",
              "75%         6.000000      19.000000     830.000000         22.000000   \n",
              "max        10.000000      30.000000    1000.000000         30.000000   \n",
              "\n",
              "               Churn  \n",
              "count  440832.000000  \n",
              "mean        0.567107  \n",
              "std         0.495477  \n",
              "min         0.000000  \n",
              "25%         0.000000  \n",
              "50%         1.000000  \n",
              "75%         1.000000  \n",
              "max         1.000000  "
            ],
            "text/html": [
              "\n",
              "  <div id=\"df-ccaafa6f-2a87-40ff-a965-29d2bcdaf9af\" class=\"colab-df-container\">\n",
              "    <div>\n",
              "<style scoped>\n",
              "    .dataframe tbody tr th:only-of-type {\n",
              "        vertical-align: middle;\n",
              "    }\n",
              "\n",
              "    .dataframe tbody tr th {\n",
              "        vertical-align: top;\n",
              "    }\n",
              "\n",
              "    .dataframe thead th {\n",
              "        text-align: right;\n",
              "    }\n",
              "</style>\n",
              "<table border=\"1\" class=\"dataframe\">\n",
              "  <thead>\n",
              "    <tr style=\"text-align: right;\">\n",
              "      <th></th>\n",
              "      <th>CustomerID</th>\n",
              "      <th>Age</th>\n",
              "      <th>Tenure</th>\n",
              "      <th>Usage Frequency</th>\n",
              "      <th>Support Calls</th>\n",
              "      <th>Payment Delay</th>\n",
              "      <th>Total Spend</th>\n",
              "      <th>Last Interaction</th>\n",
              "      <th>Churn</th>\n",
              "    </tr>\n",
              "  </thead>\n",
              "  <tbody>\n",
              "    <tr>\n",
              "      <th>count</th>\n",
              "      <td>440832.000000</td>\n",
              "      <td>440832.000000</td>\n",
              "      <td>440832.000000</td>\n",
              "      <td>440832.000000</td>\n",
              "      <td>440832.000000</td>\n",
              "      <td>440832.000000</td>\n",
              "      <td>440832.000000</td>\n",
              "      <td>440832.000000</td>\n",
              "      <td>440832.000000</td>\n",
              "    </tr>\n",
              "    <tr>\n",
              "      <th>mean</th>\n",
              "      <td>225398.667955</td>\n",
              "      <td>39.373153</td>\n",
              "      <td>31.256336</td>\n",
              "      <td>15.807494</td>\n",
              "      <td>3.604437</td>\n",
              "      <td>12.965722</td>\n",
              "      <td>631.616223</td>\n",
              "      <td>14.480868</td>\n",
              "      <td>0.567107</td>\n",
              "    </tr>\n",
              "    <tr>\n",
              "      <th>std</th>\n",
              "      <td>129531.918550</td>\n",
              "      <td>12.442369</td>\n",
              "      <td>17.255727</td>\n",
              "      <td>8.586242</td>\n",
              "      <td>3.070218</td>\n",
              "      <td>8.258063</td>\n",
              "      <td>240.803001</td>\n",
              "      <td>8.596208</td>\n",
              "      <td>0.495477</td>\n",
              "    </tr>\n",
              "    <tr>\n",
              "      <th>min</th>\n",
              "      <td>2.000000</td>\n",
              "      <td>18.000000</td>\n",
              "      <td>1.000000</td>\n",
              "      <td>1.000000</td>\n",
              "      <td>0.000000</td>\n",
              "      <td>0.000000</td>\n",
              "      <td>100.000000</td>\n",
              "      <td>1.000000</td>\n",
              "      <td>0.000000</td>\n",
              "    </tr>\n",
              "    <tr>\n",
              "      <th>25%</th>\n",
              "      <td>113621.750000</td>\n",
              "      <td>29.000000</td>\n",
              "      <td>16.000000</td>\n",
              "      <td>9.000000</td>\n",
              "      <td>1.000000</td>\n",
              "      <td>6.000000</td>\n",
              "      <td>480.000000</td>\n",
              "      <td>7.000000</td>\n",
              "      <td>0.000000</td>\n",
              "    </tr>\n",
              "    <tr>\n",
              "      <th>50%</th>\n",
              "      <td>226125.500000</td>\n",
              "      <td>39.000000</td>\n",
              "      <td>32.000000</td>\n",
              "      <td>16.000000</td>\n",
              "      <td>3.000000</td>\n",
              "      <td>12.000000</td>\n",
              "      <td>661.000000</td>\n",
              "      <td>14.000000</td>\n",
              "      <td>1.000000</td>\n",
              "    </tr>\n",
              "    <tr>\n",
              "      <th>75%</th>\n",
              "      <td>337739.250000</td>\n",
              "      <td>48.000000</td>\n",
              "      <td>46.000000</td>\n",
              "      <td>23.000000</td>\n",
              "      <td>6.000000</td>\n",
              "      <td>19.000000</td>\n",
              "      <td>830.000000</td>\n",
              "      <td>22.000000</td>\n",
              "      <td>1.000000</td>\n",
              "    </tr>\n",
              "    <tr>\n",
              "      <th>max</th>\n",
              "      <td>449999.000000</td>\n",
              "      <td>65.000000</td>\n",
              "      <td>60.000000</td>\n",
              "      <td>30.000000</td>\n",
              "      <td>10.000000</td>\n",
              "      <td>30.000000</td>\n",
              "      <td>1000.000000</td>\n",
              "      <td>30.000000</td>\n",
              "      <td>1.000000</td>\n",
              "    </tr>\n",
              "  </tbody>\n",
              "</table>\n",
              "</div>\n",
              "    <div class=\"colab-df-buttons\">\n",
              "\n",
              "  <div class=\"colab-df-container\">\n",
              "    <button class=\"colab-df-convert\" onclick=\"convertToInteractive('df-ccaafa6f-2a87-40ff-a965-29d2bcdaf9af')\"\n",
              "            title=\"Convert this dataframe to an interactive table.\"\n",
              "            style=\"display:none;\">\n",
              "\n",
              "  <svg xmlns=\"http://www.w3.org/2000/svg\" height=\"24px\" viewBox=\"0 -960 960 960\">\n",
              "    <path d=\"M120-120v-720h720v720H120Zm60-500h600v-160H180v160Zm220 220h160v-160H400v160Zm0 220h160v-160H400v160ZM180-400h160v-160H180v160Zm440 0h160v-160H620v160ZM180-180h160v-160H180v160Zm440 0h160v-160H620v160Z\"/>\n",
              "  </svg>\n",
              "    </button>\n",
              "\n",
              "  <style>\n",
              "    .colab-df-container {\n",
              "      display:flex;\n",
              "      gap: 12px;\n",
              "    }\n",
              "\n",
              "    .colab-df-convert {\n",
              "      background-color: #E8F0FE;\n",
              "      border: none;\n",
              "      border-radius: 50%;\n",
              "      cursor: pointer;\n",
              "      display: none;\n",
              "      fill: #1967D2;\n",
              "      height: 32px;\n",
              "      padding: 0 0 0 0;\n",
              "      width: 32px;\n",
              "    }\n",
              "\n",
              "    .colab-df-convert:hover {\n",
              "      background-color: #E2EBFA;\n",
              "      box-shadow: 0px 1px 2px rgba(60, 64, 67, 0.3), 0px 1px 3px 1px rgba(60, 64, 67, 0.15);\n",
              "      fill: #174EA6;\n",
              "    }\n",
              "\n",
              "    .colab-df-buttons div {\n",
              "      margin-bottom: 4px;\n",
              "    }\n",
              "\n",
              "    [theme=dark] .colab-df-convert {\n",
              "      background-color: #3B4455;\n",
              "      fill: #D2E3FC;\n",
              "    }\n",
              "\n",
              "    [theme=dark] .colab-df-convert:hover {\n",
              "      background-color: #434B5C;\n",
              "      box-shadow: 0px 1px 3px 1px rgba(0, 0, 0, 0.15);\n",
              "      filter: drop-shadow(0px 1px 2px rgba(0, 0, 0, 0.3));\n",
              "      fill: #FFFFFF;\n",
              "    }\n",
              "  </style>\n",
              "\n",
              "    <script>\n",
              "      const buttonEl =\n",
              "        document.querySelector('#df-ccaafa6f-2a87-40ff-a965-29d2bcdaf9af button.colab-df-convert');\n",
              "      buttonEl.style.display =\n",
              "        google.colab.kernel.accessAllowed ? 'block' : 'none';\n",
              "\n",
              "      async function convertToInteractive(key) {\n",
              "        const element = document.querySelector('#df-ccaafa6f-2a87-40ff-a965-29d2bcdaf9af');\n",
              "        const dataTable =\n",
              "          await google.colab.kernel.invokeFunction('convertToInteractive',\n",
              "                                                    [key], {});\n",
              "        if (!dataTable) return;\n",
              "\n",
              "        const docLinkHtml = 'Like what you see? Visit the ' +\n",
              "          '<a target=\"_blank\" href=https://colab.research.google.com/notebooks/data_table.ipynb>data table notebook</a>'\n",
              "          + ' to learn more about interactive tables.';\n",
              "        element.innerHTML = '';\n",
              "        dataTable['output_type'] = 'display_data';\n",
              "        await google.colab.output.renderOutput(dataTable, element);\n",
              "        const docLink = document.createElement('div');\n",
              "        docLink.innerHTML = docLinkHtml;\n",
              "        element.appendChild(docLink);\n",
              "      }\n",
              "    </script>\n",
              "  </div>\n",
              "\n",
              "\n",
              "<div id=\"df-1175c676-edea-4ea2-b0da-ce99440ab628\">\n",
              "  <button class=\"colab-df-quickchart\" onclick=\"quickchart('df-1175c676-edea-4ea2-b0da-ce99440ab628')\"\n",
              "            title=\"Suggest charts\"\n",
              "            style=\"display:none;\">\n",
              "\n",
              "<svg xmlns=\"http://www.w3.org/2000/svg\" height=\"24px\"viewBox=\"0 0 24 24\"\n",
              "     width=\"24px\">\n",
              "    <g>\n",
              "        <path d=\"M19 3H5c-1.1 0-2 .9-2 2v14c0 1.1.9 2 2 2h14c1.1 0 2-.9 2-2V5c0-1.1-.9-2-2-2zM9 17H7v-7h2v7zm4 0h-2V7h2v10zm4 0h-2v-4h2v4z\"/>\n",
              "    </g>\n",
              "</svg>\n",
              "  </button>\n",
              "\n",
              "<style>\n",
              "  .colab-df-quickchart {\n",
              "      --bg-color: #E8F0FE;\n",
              "      --fill-color: #1967D2;\n",
              "      --hover-bg-color: #E2EBFA;\n",
              "      --hover-fill-color: #174EA6;\n",
              "      --disabled-fill-color: #AAA;\n",
              "      --disabled-bg-color: #DDD;\n",
              "  }\n",
              "\n",
              "  [theme=dark] .colab-df-quickchart {\n",
              "      --bg-color: #3B4455;\n",
              "      --fill-color: #D2E3FC;\n",
              "      --hover-bg-color: #434B5C;\n",
              "      --hover-fill-color: #FFFFFF;\n",
              "      --disabled-bg-color: #3B4455;\n",
              "      --disabled-fill-color: #666;\n",
              "  }\n",
              "\n",
              "  .colab-df-quickchart {\n",
              "    background-color: var(--bg-color);\n",
              "    border: none;\n",
              "    border-radius: 50%;\n",
              "    cursor: pointer;\n",
              "    display: none;\n",
              "    fill: var(--fill-color);\n",
              "    height: 32px;\n",
              "    padding: 0;\n",
              "    width: 32px;\n",
              "  }\n",
              "\n",
              "  .colab-df-quickchart:hover {\n",
              "    background-color: var(--hover-bg-color);\n",
              "    box-shadow: 0 1px 2px rgba(60, 64, 67, 0.3), 0 1px 3px 1px rgba(60, 64, 67, 0.15);\n",
              "    fill: var(--button-hover-fill-color);\n",
              "  }\n",
              "\n",
              "  .colab-df-quickchart-complete:disabled,\n",
              "  .colab-df-quickchart-complete:disabled:hover {\n",
              "    background-color: var(--disabled-bg-color);\n",
              "    fill: var(--disabled-fill-color);\n",
              "    box-shadow: none;\n",
              "  }\n",
              "\n",
              "  .colab-df-spinner {\n",
              "    border: 2px solid var(--fill-color);\n",
              "    border-color: transparent;\n",
              "    border-bottom-color: var(--fill-color);\n",
              "    animation:\n",
              "      spin 1s steps(1) infinite;\n",
              "  }\n",
              "\n",
              "  @keyframes spin {\n",
              "    0% {\n",
              "      border-color: transparent;\n",
              "      border-bottom-color: var(--fill-color);\n",
              "      border-left-color: var(--fill-color);\n",
              "    }\n",
              "    20% {\n",
              "      border-color: transparent;\n",
              "      border-left-color: var(--fill-color);\n",
              "      border-top-color: var(--fill-color);\n",
              "    }\n",
              "    30% {\n",
              "      border-color: transparent;\n",
              "      border-left-color: var(--fill-color);\n",
              "      border-top-color: var(--fill-color);\n",
              "      border-right-color: var(--fill-color);\n",
              "    }\n",
              "    40% {\n",
              "      border-color: transparent;\n",
              "      border-right-color: var(--fill-color);\n",
              "      border-top-color: var(--fill-color);\n",
              "    }\n",
              "    60% {\n",
              "      border-color: transparent;\n",
              "      border-right-color: var(--fill-color);\n",
              "    }\n",
              "    80% {\n",
              "      border-color: transparent;\n",
              "      border-right-color: var(--fill-color);\n",
              "      border-bottom-color: var(--fill-color);\n",
              "    }\n",
              "    90% {\n",
              "      border-color: transparent;\n",
              "      border-bottom-color: var(--fill-color);\n",
              "    }\n",
              "  }\n",
              "</style>\n",
              "\n",
              "  <script>\n",
              "    async function quickchart(key) {\n",
              "      const quickchartButtonEl =\n",
              "        document.querySelector('#' + key + ' button');\n",
              "      quickchartButtonEl.disabled = true;  // To prevent multiple clicks.\n",
              "      quickchartButtonEl.classList.add('colab-df-spinner');\n",
              "      try {\n",
              "        const charts = await google.colab.kernel.invokeFunction(\n",
              "            'suggestCharts', [key], {});\n",
              "      } catch (error) {\n",
              "        console.error('Error during call to suggestCharts:', error);\n",
              "      }\n",
              "      quickchartButtonEl.classList.remove('colab-df-spinner');\n",
              "      quickchartButtonEl.classList.add('colab-df-quickchart-complete');\n",
              "    }\n",
              "    (() => {\n",
              "      let quickchartButtonEl =\n",
              "        document.querySelector('#df-1175c676-edea-4ea2-b0da-ce99440ab628 button');\n",
              "      quickchartButtonEl.style.display =\n",
              "        google.colab.kernel.accessAllowed ? 'block' : 'none';\n",
              "    })();\n",
              "  </script>\n",
              "</div>\n",
              "\n",
              "    </div>\n",
              "  </div>\n"
            ],
            "application/vnd.google.colaboratory.intrinsic+json": {
              "type": "dataframe",
              "summary": "{\n  \"name\": \"dados_churn\",\n  \"rows\": 8,\n  \"fields\": [\n    {\n      \"column\": \"CustomerID\",\n      \"properties\": {\n        \"dtype\": \"number\",\n        \"std\": 160429.83004457437,\n        \"min\": 2.0,\n        \"max\": 449999.0,\n        \"num_unique_values\": 8,\n        \"samples\": [\n          225398.66795513936,\n          226125.5,\n          440832.0\n        ],\n        \"semantic_type\": \"\",\n        \"description\": \"\"\n      }\n    },\n    {\n      \"column\": \"Age\",\n      \"properties\": {\n        \"dtype\": \"number\",\n        \"std\": 155844.98107109405,\n        \"min\": 12.442369490866625,\n        \"max\": 440832.0,\n        \"num_unique_values\": 8,\n        \"samples\": [\n          39.37315349157956,\n          39.0,\n          440832.0\n        ],\n        \"semantic_type\": \"\",\n        \"description\": \"\"\n      }\n    },\n    {\n      \"column\": \"Tenure\",\n      \"properties\": {\n        \"dtype\": \"number\",\n        \"std\": 155847.37044993733,\n        \"min\": 1.0,\n        \"max\": 440832.0,\n        \"num_unique_values\": 8,\n        \"samples\": [\n          31.25633574695122,\n          32.0,\n          440832.0\n        ],\n        \"semantic_type\": \"\",\n        \"description\": \"\"\n      }\n    },\n    {\n      \"column\": \"Usage Frequency\",\n      \"properties\": {\n        \"dtype\": \"number\",\n        \"std\": 155852.4263679991,\n        \"min\": 1.0,\n        \"max\": 440832.0,\n        \"num_unique_values\": 8,\n        \"samples\": [\n          15.80749355763647,\n          16.0,\n          440832.0\n        ],\n        \"semantic_type\": \"\",\n        \"description\": \"\"\n      }\n    },\n    {\n      \"column\": \"Support Calls\",\n      \"properties\": {\n        \"dtype\": \"number\",\n        \"std\": 155856.30103910927,\n        \"min\": 0.0,\n        \"max\": 440832.0,\n        \"num_unique_values\": 8,\n        \"samples\": [\n          3.6044366107723578,\n          3.0,\n          440832.0\n        ],\n        \"semantic_type\": \"\",\n        \"description\": \"\"\n      }\n    },\n    {\n      \"column\": \"Payment Delay\",\n      \"properties\": {\n        \"dtype\": \"number\",\n        \"std\": 155853.19256713171,\n        \"min\": 0.0,\n        \"max\": 440832.0,\n        \"num_unique_values\": 8,\n        \"samples\": [\n          12.965721635452962,\n          12.0,\n          440832.0\n        ],\n        \"semantic_type\": \"\",\n        \"description\": \"\"\n      }\n    },\n    {\n      \"column\": \"Total Spend\",\n      \"properties\": {\n        \"dtype\": \"number\",\n        \"std\": 155658.75161340856,\n        \"min\": 100.0,\n        \"max\": 440832.0,\n        \"num_unique_values\": 8,\n        \"samples\": [\n          631.6162227787456,\n          661.0,\n          440832.0\n        ],\n        \"semantic_type\": \"\",\n        \"description\": \"\"\n      }\n    },\n    {\n      \"column\": \"Last Interaction\",\n      \"properties\": {\n        \"dtype\": \"number\",\n        \"std\": 155852.74540926635,\n        \"min\": 1.0,\n        \"max\": 440832.0,\n        \"num_unique_values\": 8,\n        \"samples\": [\n          14.480867995063878,\n          14.0,\n          440832.0\n        ],\n        \"semantic_type\": \"\",\n        \"description\": \"\"\n      }\n    },\n    {\n      \"column\": \"Churn\",\n      \"properties\": {\n        \"dtype\": \"number\",\n        \"std\": 155857.44309109414,\n        \"min\": 0.0,\n        \"max\": 440832.0,\n        \"num_unique_values\": 5,\n        \"samples\": [\n          0.5671071972996515,\n          1.0,\n          0.495476720911978\n        ],\n        \"semantic_type\": \"\",\n        \"description\": \"\"\n      }\n    }\n  ]\n}"
            }
          },
          "metadata": {},
          "execution_count": 6
        }
      ]
    },
    {
      "cell_type": "code",
      "source": [
        "\n",
        "# Contagem de valores únicos para variáveis categóricas(aquelas que representam características qualitativas)\n",
        "dados_churn['Contract Length'].value_counts()"
      ],
      "metadata": {
        "colab": {
          "base_uri": "https://localhost:8080/"
        },
        "id": "Qmce8-XteHza",
        "outputId": "671105f0-e2b5-44a7-d00f-fae0453b78f6"
      },
      "execution_count": 7,
      "outputs": [
        {
          "output_type": "execute_result",
          "data": {
            "text/plain": [
              "Annual       177198\n",
              "Quarterly    176530\n",
              "Monthly       87104\n",
              "Name: Contract Length, dtype: int64"
            ]
          },
          "metadata": {},
          "execution_count": 7
        }
      ]
    },
    {
      "cell_type": "code",
      "source": [
        "dados_churn['Gender'].value_counts()"
      ],
      "metadata": {
        "colab": {
          "base_uri": "https://localhost:8080/"
        },
        "id": "0cJxZE93h-l0",
        "outputId": "c2c061ec-dfa3-4d50-a6c2-2bb8e065b270"
      },
      "execution_count": 8,
      "outputs": [
        {
          "output_type": "execute_result",
          "data": {
            "text/plain": [
              "Male      250252\n",
              "Female    190580\n",
              "Name: Gender, dtype: int64"
            ]
          },
          "metadata": {},
          "execution_count": 8
        }
      ]
    },
    {
      "cell_type": "code",
      "source": [
        "dados_churn['Subscription Type'].value_counts()"
      ],
      "metadata": {
        "colab": {
          "base_uri": "https://localhost:8080/"
        },
        "id": "Zoem4mzsh-s1",
        "outputId": "cf744fc9-2c22-44cc-c2d2-6cf5356a4892"
      },
      "execution_count": 9,
      "outputs": [
        {
          "output_type": "execute_result",
          "data": {
            "text/plain": [
              "Standard    149128\n",
              "Premium     148678\n",
              "Basic       143026\n",
              "Name: Subscription Type, dtype: int64"
            ]
          },
          "metadata": {},
          "execution_count": 9
        }
      ]
    },
    {
      "cell_type": "code",
      "source": [
        "# Verificação de valores nulos\n",
        "print(dados_churn.isnull().sum())"
      ],
      "metadata": {
        "colab": {
          "base_uri": "https://localhost:8080/"
        },
        "id": "YRE7HPOVeH1y",
        "outputId": "88ac04ff-a7ed-40b0-cf66-828bc453f465"
      },
      "execution_count": 10,
      "outputs": [
        {
          "output_type": "stream",
          "name": "stdout",
          "text": [
            "CustomerID           1\n",
            "Age                  1\n",
            "Gender               1\n",
            "Tenure               1\n",
            "Usage Frequency      1\n",
            "Support Calls        1\n",
            "Payment Delay        1\n",
            "Subscription Type    1\n",
            "Contract Length      1\n",
            "Total Spend          1\n",
            "Last Interaction     1\n",
            "Churn                1\n",
            "dtype: int64\n"
          ]
        }
      ]
    },
    {
      "cell_type": "markdown",
      "source": [
        "#**Limpeza dos dados**"
      ],
      "metadata": {
        "id": "LNK2fb36j5ek"
      }
    },
    {
      "cell_type": "code",
      "source": [
        "dados_churn = dados_churn.dropna()"
      ],
      "metadata": {
        "id": "LgXWHX-1eH67"
      },
      "execution_count": 11,
      "outputs": []
    },
    {
      "cell_type": "code",
      "source": [
        "# Correção do valor 'Monthl' para 'Monthly'\n",
        "dados_churn['Contract Length'] = dados_churn['Contract Length'].replace('Monthl', 'Monthly')"
      ],
      "metadata": {
        "colab": {
          "base_uri": "https://localhost:8080/"
        },
        "id": "MjQoEbQ8kCuz",
        "outputId": "84d14918-d992-4a44-bfa6-f0e8db24d35b"
      },
      "execution_count": 12,
      "outputs": [
        {
          "output_type": "stream",
          "name": "stderr",
          "text": [
            "<ipython-input-12-80c05ea0eb96>:2: SettingWithCopyWarning: \n",
            "A value is trying to be set on a copy of a slice from a DataFrame.\n",
            "Try using .loc[row_indexer,col_indexer] = value instead\n",
            "\n",
            "See the caveats in the documentation: https://pandas.pydata.org/pandas-docs/stable/user_guide/indexing.html#returning-a-view-versus-a-copy\n",
            "  dados_churn['Contract Length'] = dados_churn['Contract Length'].replace('Monthl', 'Monthly')\n"
          ]
        }
      ]
    },
    {
      "cell_type": "code",
      "source": [
        "dados_churn['Contract Length'].value_counts()"
      ],
      "metadata": {
        "colab": {
          "base_uri": "https://localhost:8080/"
        },
        "id": "Bcu5bLsKkCxs",
        "outputId": "d4fe10ca-ed7a-4377-c63c-a8ef7467afc1"
      },
      "execution_count": 13,
      "outputs": [
        {
          "output_type": "execute_result",
          "data": {
            "text/plain": [
              "Annual       177198\n",
              "Quarterly    176530\n",
              "Monthly       87104\n",
              "Name: Contract Length, dtype: int64"
            ]
          },
          "metadata": {},
          "execution_count": 13
        }
      ]
    },
    {
      "cell_type": "code",
      "source": [
        "# Padronização da coluna 'Gender'\n",
        "# nota: o capitalize coloca o primeiro caractere convertido para maiúsculo e todos os outros caracteres convertidos para minúsculo\n",
        "dados_churn['Gender'] = dados_churn['Gender'].str.capitalize()\n",
        "\n",
        "# Padronização da coluna 'Subscription Type'\n",
        "dados_churn['Subscription Type'] = dados_churn['Subscription Type'].str.capitalize()\n"
      ],
      "metadata": {
        "id": "zj9rKu6AkY6V"
      },
      "execution_count": 14,
      "outputs": []
    },
    {
      "cell_type": "code",
      "source": [
        "dados_churn.info()"
      ],
      "metadata": {
        "colab": {
          "base_uri": "https://localhost:8080/"
        },
        "id": "iWTKRVw7khZR",
        "outputId": "ae778797-a732-4647-a031-03013c7a9216"
      },
      "execution_count": 15,
      "outputs": [
        {
          "output_type": "stream",
          "name": "stdout",
          "text": [
            "<class 'pandas.core.frame.DataFrame'>\n",
            "Int64Index: 440832 entries, 0 to 440832\n",
            "Data columns (total 12 columns):\n",
            " #   Column             Non-Null Count   Dtype  \n",
            "---  ------             --------------   -----  \n",
            " 0   CustomerID         440832 non-null  float64\n",
            " 1   Age                440832 non-null  float64\n",
            " 2   Gender             440832 non-null  object \n",
            " 3   Tenure             440832 non-null  float64\n",
            " 4   Usage Frequency    440832 non-null  float64\n",
            " 5   Support Calls      440832 non-null  float64\n",
            " 6   Payment Delay      440832 non-null  float64\n",
            " 7   Subscription Type  440832 non-null  object \n",
            " 8   Contract Length    440832 non-null  object \n",
            " 9   Total Spend        440832 non-null  float64\n",
            " 10  Last Interaction   440832 non-null  float64\n",
            " 11  Churn              440832 non-null  float64\n",
            "dtypes: float64(9), object(3)\n",
            "memory usage: 43.7+ MB\n"
          ]
        }
      ]
    },
    {
      "cell_type": "code",
      "source": [
        "# Convertendo as colunas 'Gender' e 'Subscription Type' para o tipo categoria\n",
        "dados_churn['Gender'] = dados_churn['Gender'].astype('category')\n",
        "dados_churn['Subscription Type'] = dados_churn['Subscription Type'].astype('category')"
      ],
      "metadata": {
        "id": "E06qHyqzkhbp"
      },
      "execution_count": 16,
      "outputs": []
    },
    {
      "cell_type": "code",
      "source": [
        "dados_churn.info()"
      ],
      "metadata": {
        "colab": {
          "base_uri": "https://localhost:8080/"
        },
        "id": "5L9Y0jzskheR",
        "outputId": "3f5ef202-0089-4a33-83b0-d6456a21e0f8"
      },
      "execution_count": 17,
      "outputs": [
        {
          "output_type": "stream",
          "name": "stdout",
          "text": [
            "<class 'pandas.core.frame.DataFrame'>\n",
            "Int64Index: 440832 entries, 0 to 440832\n",
            "Data columns (total 12 columns):\n",
            " #   Column             Non-Null Count   Dtype   \n",
            "---  ------             --------------   -----   \n",
            " 0   CustomerID         440832 non-null  float64 \n",
            " 1   Age                440832 non-null  float64 \n",
            " 2   Gender             440832 non-null  category\n",
            " 3   Tenure             440832 non-null  float64 \n",
            " 4   Usage Frequency    440832 non-null  float64 \n",
            " 5   Support Calls      440832 non-null  float64 \n",
            " 6   Payment Delay      440832 non-null  float64 \n",
            " 7   Subscription Type  440832 non-null  category\n",
            " 8   Contract Length    440832 non-null  object  \n",
            " 9   Total Spend        440832 non-null  float64 \n",
            " 10  Last Interaction   440832 non-null  float64 \n",
            " 11  Churn              440832 non-null  float64 \n",
            "dtypes: category(2), float64(9), object(1)\n",
            "memory usage: 37.8+ MB\n"
          ]
        }
      ]
    },
    {
      "cell_type": "markdown",
      "source": [
        "#**Análise Descritiva**"
      ],
      "metadata": {
        "id": "ftqc_FJnlc03"
      }
    },
    {
      "cell_type": "code",
      "source": [
        "# Histograma da idade dos clientes com esquema de cores escuro\n",
        "plt.figure(figsize=(8, 6))\n",
        "sns.histplot(data=dados_churn, x='Age', bins=30, kde=False, color='#275D8C',edgecolor='#1E4C7B')\n",
        "plt.title('Distribuição da Idade dos Clientes')\n",
        "plt.xlabel('Idade')\n",
        "plt.ylabel('Frequência')\n",
        "plt.show()\n"
      ],
      "metadata": {
        "colab": {
          "base_uri": "https://localhost:8080/",
          "height": 564
        },
        "id": "k5pRlqdImrjR",
        "outputId": "1282fc93-e51f-4323-8cb5-26f16df0614a"
      },
      "execution_count": 45,
      "outputs": [
        {
          "output_type": "display_data",
          "data": {
            "text/plain": [
              "<Figure size 800x600 with 1 Axes>"
            ],
            "image/png": "[encoded data removed]"
          },
          "metadata": {}
        }
      ]
    },
    {
      "cell_type": "code",
      "source": [
        "# Matriz de correlação\n",
        "correlation_matrix = dados_churn.corr()\n",
        "\n",
        "# Mapa de calor da matriz de correlação\n",
        "plt.figure(figsize=(10, 8))\n",
        "sns.heatmap(correlation_matrix, annot=True, cmap='Blues', fmt=\".2f\")\n",
        "plt.title('Matriz de Correlação')\n",
        "plt.show()"
      ],
      "metadata": {
        "colab": {
          "base_uri": "https://localhost:8080/",
          "height": 839
        },
        "id": "IKUiUC652JJy",
        "outputId": "9a302565-9303-4fe1-bc97-b4e83223c074"
      },
      "execution_count": 19,
      "outputs": [
        {
          "output_type": "stream",
          "name": "stderr",
          "text": [
            "<ipython-input-19-122d03eaef1e>:2: FutureWarning: The default value of numeric_only in DataFrame.corr is deprecated. In a future version, it will default to False. Select only valid columns or specify the value of numeric_only to silence this warning.\n",
            "  correlation_matrix = dados_churn.corr()\n"
          ]
        },
        {
          "output_type": "display_data",
          "data": {
            "text/plain": [
              "<Figure size 1000x800 with 2 Axes>"
            ],
            "image/png": "[encoded data removed]"
          },
          "metadata": {}
        }
      ]
    },
    {
      "cell_type": "code",
      "source": [
        "# Gráfico de contagem para variável 'Gender'\n",
        "plt.figure(figsize=(8, 6))\n",
        "sns.countplot(data=dados_churn, x='Gender', linewidth=0.2)\n",
        "plt.title('Contagem de Gênero')\n",
        "plt.xlabel('Gênero')\n",
        "plt.ylabel('Contagem')\n",
        "plt.show()\n",
        "\n"
      ],
      "metadata": {
        "colab": {
          "base_uri": "https://localhost:8080/",
          "height": 565
        },
        "id": "oGLMZoEKnGmo",
        "outputId": "5c3e8a72-2db9-4e18-ab6b-69b0ffd883b9"
      },
      "execution_count": 20,
      "outputs": [
        {
          "output_type": "display_data",
          "data": {
            "text/plain": [
              "<Figure size 800x600 with 1 Axes>"
            ],
            "image/png": "[encoded data removed]"
          },
          "metadata": {}
        }
      ]
    },
    {
      "cell_type": "code",
      "source": [
        "# Taxa de churn global\n",
        "churn_rate = dados_churn['Churn'].mean() * 100\n",
        "print(f'Taxa de Churn Global: {churn_rate:.2f}%')\n",
        "\n",
        "# Análise de churn por gênero\n",
        "plt.figure(figsize=(8, 6))\n",
        "sns.countplot(data=dados_churn, x='Gender', hue='Churn')\n",
        "plt.title('Churn por Gênero')\n",
        "plt.xlabel('Gênero')\n",
        "plt.ylabel('Contagem')\n",
        "plt.legend(title='Churn', labels=['Não Churn', 'Churn'])\n",
        "plt.show()\n"
      ],
      "metadata": {
        "colab": {
          "base_uri": "https://localhost:8080/",
          "height": 582
        },
        "id": "20b631osnGpS",
        "outputId": "af4635e6-6b53-4629-e70d-2df9a511fe50"
      },
      "execution_count": 21,
      "outputs": [
        {
          "output_type": "stream",
          "name": "stdout",
          "text": [
            "Taxa de Churn Global: 56.71%\n"
          ]
        },
        {
          "output_type": "display_data",
          "data": {
            "text/plain": [
              "<Figure size 800x600 with 1 Axes>"
            ],
            "image/png": "[encoded data removed]"
          },
          "metadata": {}
        }
      ]
    },
    {
      "cell_type": "markdown",
      "source": [
        "#**Questões de Análise**\n",
        "##Aqui estão algumas perguntas que busquei responder durante esta análise."
      ],
      "metadata": {
        "id": "-nlWOOs3KOmQ"
      }
    },
    {
      "cell_type": "markdown",
      "source": [
        "\n",
        "#**1.** Qual é a distribuição etária dos clientes? Há alguma faixa etária predominante?"
      ],
      "metadata": {
        "id": "Ja_IqaJeK2zX"
      }
    },
    {
      "cell_type": "code",
      "source": [
        "plt.figure(figsize=(10, 6))\n",
        "sns.histplot(data=dados_churn, x='Age', bins=30, kde=False, color='#275D8C', edgecolor='#1E4C7B')\n",
        "plt.title('Distribuição Etária dos Clientes')\n",
        "plt.xlabel('Idade')\n",
        "plt.ylabel('Quantidade')\n",
        "plt.grid(False)\n",
        "plt.show()\n"
      ],
      "metadata": {
        "colab": {
          "base_uri": "https://localhost:8080/",
          "height": 565
        },
        "id": "lN8A63IZKz7N",
        "outputId": "43fd20b1-8231-4fc4-b8ca-1729c189129e"
      },
      "execution_count": 46,
      "outputs": [
        {
          "output_type": "display_data",
          "data": {
            "text/plain": [
              "<Figure size 1000x600 with 1 Axes>"
            ],
            "image/png": "[encoded data removed]"
          },
          "metadata": {}
        }
      ]
    },
    {
      "cell_type": "code",
      "source": [
        "media_idade = dados_churn['Age'].mean()\n",
        "mediana_idade = dados_churn['Age'].median()\n",
        "moda_idade = dados_churn['Age'].mode()[0]\n",
        "desvio_padrao_idade = dados_churn['Age'].std()\n",
        "\n",
        "print(f'Média de idade: {media_idade:.2f} anos')\n",
        "print(f'Mediana de idade: {mediana_idade} anos')\n",
        "print(f'Faixa etária predominante: {moda_idade} anos')\n",
        "print(f'Desvio padrão de idade: {desvio_padrao_idade:.2f} anos')"
      ],
      "metadata": {
        "id": "5Oay0uaanGr4",
        "colab": {
          "base_uri": "https://localhost:8080/"
        },
        "outputId": "c92c4689-276c-4ac5-b3ff-bb9c57efdadd"
      },
      "execution_count": 23,
      "outputs": [
        {
          "output_type": "stream",
          "name": "stdout",
          "text": [
            "Média de idade: 39.37 anos\n",
            "Mediana de idade: 39.0 anos\n",
            "Faixa etária predominante: 50.0 anos\n",
            "Desvio padrão de idade: 12.44 anos\n"
          ]
        }
      ]
    },
    {
      "cell_type": "markdown",
      "source": [
        "## Distribuição Etária dos Clientes\n",
        "\n",
        "Ao analisar a distribuição etária dos clientes, observamos que tanto a média quanto a mediana de idade estão em torno de 39 anos. No entanto, a faixa etária predominante dos clientes, determinada pela moda da distribuição de idade, é de 50 anos. Além disso, o desvio padrão da idade dos clientes é de aproximadamente 12, sugerindo uma dispersão moderada em relação à idade média.\n",
        "\n",
        "Esses resultados indicam que a maioria dos clientes está concentrada em torno da faixa etária de 50 anos, embora haja uma dispersão razoável em relação a essa idade média. Essas informações podem ser úteis para direcionar estratégias de marketing, desenvolvimento de produtos e serviços voltados para diferentes faixas etárias dentro da base de clientes.\n"
      ],
      "metadata": {
        "id": "3B0wbXgxNtTQ"
      }
    },
    {
      "cell_type": "markdown",
      "source": [
        "\n",
        "#**2.** Qual é a distribuição de gênero dos clientes? Existem diferenças significativas entre homens e mulheres?"
      ],
      "metadata": {
        "id": "xIGLCs2pOtCO"
      }
    },
    {
      "cell_type": "code",
      "source": [
        "# Calculando a contagem de clientes para cada categoria de gênero\n",
        "contagem_genero = dados_churn['Gender'].value_counts()\n",
        "\n",
        "# Definindo as cores\n",
        "cores = ['#FF9671', '#0089BA']\n",
        "\n",
        "# Visualização da distribuição de gênero\n",
        "plt.figure(figsize=(8, 6))\n",
        "sns.barplot(x=contagem_genero.index, y=contagem_genero.values, hue=contagem_genero.index, palette=cores, dodge=False)\n",
        "plt.title('Distribuição de Gênero dos Clientes')\n",
        "plt.xlabel('Gênero')\n",
        "plt.ylabel('Contagem')\n",
        "plt.show()\n"
      ],
      "metadata": {
        "colab": {
          "base_uri": "https://localhost:8080/",
          "height": 565
        },
        "id": "ycpAANrAOut8",
        "outputId": "3fe426da-d4f2-4282-da6a-f458324247f5"
      },
      "execution_count": 49,
      "outputs": [
        {
          "output_type": "display_data",
          "data": {
            "text/plain": [
              "<Figure size 800x600 with 1 Axes>"
            ],
            "image/png": "[encoded data removed]"
          },
          "metadata": {}
        }
      ]
    },
    {
      "cell_type": "code",
      "source": [
        "# Analisando se existem diferenças significativas entre homens e mulheres\n",
        "diferenca_genero = contagem_genero['Male'] - contagem_genero['Female']\n",
        "if diferenca_genero > 0:\n",
        "    print(f\"Há {diferenca_genero} mais homens do que mulheres na base de clientes.\")\n",
        "elif diferenca_genero < 0:\n",
        "    print(f\"Há {abs(diferenca_genero)} mais mulheres do que homens na base de clientes.\")\n",
        "else:\n",
        "    print(\"Não há diferenças significativas entre homens e mulheres na base de clientes.\")"
      ],
      "metadata": {
        "colab": {
          "base_uri": "https://localhost:8080/"
        },
        "id": "iYYPHrwnO3BN",
        "outputId": "fc157c89-4e8b-4e05-a92f-c27ae5ee5384"
      },
      "execution_count": 50,
      "outputs": [
        {
          "output_type": "stream",
          "name": "stdout",
          "text": [
            "Há 59672 mais homens do que mulheres na base de clientes.\n"
          ]
        }
      ]
    },
    {
      "cell_type": "markdown",
      "source": [
        "## Distribuição de Gênero dos Clientes\n",
        "\n",
        "Ao analisar a distribuição de gênero dos clientes, observamos que há uma diferença de 59.672 a mais de homens do que mulheres na base de clientes. Isso sugere uma maior representação masculina na amostra analisada.\n",
        "\n",
        "Essa informação é importante para entender a composição demográfica da base de clientes e pode influenciar estratégias de marketing e desenvolvimento de produtos voltados para diferentes segmentos de público. Ter um entendimento claro da distribuição de gênero permite à empresa adaptar suas estratégias para atender melhor às necessidades e preferências de seus clientes.\n"
      ],
      "metadata": {
        "id": "BTJrw14nQ2am"
      }
    },
    {
      "cell_type": "markdown",
      "source": [
        "#**3.** Quanto tempo, em média, os clientes permanecem como assinantes ou clientes da empresa (Tenure)?"
      ],
      "metadata": {
        "id": "hoA9wlXVRewn"
      }
    },
    {
      "cell_type": "code",
      "source": [
        "# Calculo da média do tempo de permanência\n",
        "media_tenure = dados_churn['Tenure'].mean()\n",
        "media_tenure_int = int(round(media_tenure))\n",
        "\n",
        "print(f\"Tempo médio de permanência dos clientes: {media_tenure_int} meses\")\n"
      ],
      "metadata": {
        "colab": {
          "base_uri": "https://localhost:8080/"
        },
        "id": "efMJSz_kRrZk",
        "outputId": "1c30ffcf-19b1-4166-e672-2dea06b961c1"
      },
      "execution_count": 26,
      "outputs": [
        {
          "output_type": "stream",
          "name": "stdout",
          "text": [
            "Tempo médio de permanência dos clientes: 31 meses\n"
          ]
        }
      ]
    },
    {
      "cell_type": "markdown",
      "source": [
        "## Tempo Médio de Permanência dos Clientes\n",
        "\n",
        "Ao analisar o tempo médio de permanência dos clientes, observamos que a média é de aproximadamente 31 meses. Isso significa que, em média, os clientes tendem a permanecer na empresa por cerca de 2 anos e meio antes de cancelarem o serviço ou produto."
      ],
      "metadata": {
        "id": "zk5iRcDoSiiX"
      }
    },
    {
      "cell_type": "markdown",
      "source": [
        "#**4**. Como é a frequência de uso dos serviços ou produtos oferecidos pela empresa?"
      ],
      "metadata": {
        "id": "EqsQ3lyaSt0W"
      }
    },
    {
      "cell_type": "code",
      "source": [
        "# Cálculo da frequência de uso\n",
        "estatisticas_frequencia = dados_churn['Usage Frequency'].describe()\n",
        "print(estatisticas_frequencia)"
      ],
      "metadata": {
        "colab": {
          "base_uri": "https://localhost:8080/"
        },
        "id": "ldMhdQMpS7ny",
        "outputId": "13d076cf-b016-451f-d754-8a5099f6c6a8"
      },
      "execution_count": 27,
      "outputs": [
        {
          "output_type": "stream",
          "name": "stdout",
          "text": [
            "count    440832.000000\n",
            "mean         15.807494\n",
            "std           8.586242\n",
            "min           1.000000\n",
            "25%           9.000000\n",
            "50%          16.000000\n",
            "75%          23.000000\n",
            "max          30.000000\n",
            "Name: Usage Frequency, dtype: float64\n"
          ]
        }
      ]
    },
    {
      "cell_type": "code",
      "source": [
        "# Visualizar a distribuição da frequência de uso\n",
        "plt.figure(figsize=(8, 6))\n",
        "sns.histplot(dados_churn['Usage Frequency'], bins=11, kde=False, color='#275D8C')\n",
        "plt.title('Distribuição da Frequência de Uso dos Serviços/Produtos')\n",
        "plt.xlabel('Frequência de Uso')\n",
        "plt.ylabel('Contagem')\n",
        "plt.show()\n"
      ],
      "metadata": {
        "colab": {
          "base_uri": "https://localhost:8080/",
          "height": 565
        },
        "id": "wgq2obZcS70U",
        "outputId": "6f35b658-c86f-4f23-b5ae-17e8c2903c4d"
      },
      "execution_count": 42,
      "outputs": [
        {
          "output_type": "display_data",
          "data": {
            "text/plain": [
              "<Figure size 800x600 with 1 Axes>"
            ],
            "image/png": "[encoded data removed]"
          },
          "metadata": {}
        }
      ]
    },
    {
      "cell_type": "markdown",
      "source": [
        "\n",
        "## Frequência de Uso dos Serviços/Produtos\n",
        "\n",
        "A análise da frequência de uso dos serviços ou produtos oferecidos pela empresa revela os seguintes insights:\n",
        "\n",
        "- A média de frequência de uso é de aproximadamente 15.81 vezes, com um desvio padrão de 8.59. Isso sugere que, embora a média esteja próxima de 16, há uma dispersão significativa em torno desse valor. Isso indica que a frequência de uso não é uniformemente distribuída entre os clientes e pode haver diferenças nos padrões de comportamento.\n",
        "- A distribuição dos dados é assimétrica, com maior densidade nos extremos mais baixos e mais altos da escala de frequência de uso. Em uma distribuição assimétrica, como essa, a média pode ser influenciada por valores extremos ou concentrações em torno de valores específicos.\n",
        "\n"
      ],
      "metadata": {
        "id": "-d2Te6vaTyFM"
      }
    },
    {
      "cell_type": "markdown",
      "source": [
        "#**5.** Quantas chamadas de suporte os clientes fazem em média?"
      ],
      "metadata": {
        "id": "ydobyXj3YQDB"
      }
    },
    {
      "cell_type": "code",
      "source": [
        "media_chamadas_suporte = int(dados_churn['Support Calls'].mean())\n",
        "print(f\"Número médio de chamadas de suporte feitas pelos clientes: {media_chamadas_suporte}\")\n"
      ],
      "metadata": {
        "colab": {
          "base_uri": "https://localhost:8080/"
        },
        "id": "8zkWWk1eYWdP",
        "outputId": "35f8cc9d-8e98-4450-8b97-2d22cc1e60f3"
      },
      "execution_count": 29,
      "outputs": [
        {
          "output_type": "stream",
          "name": "stdout",
          "text": [
            "Número médio de chamadas de suporte feitas pelos clientes: 3\n"
          ]
        }
      ]
    },
    {
      "cell_type": "markdown",
      "source": [
        "## Média de Chamadas de Suporte\n",
        "\n",
        "Ao analisar o número de chamadas de suporte feitas pelos clientes, observamos que em média os clientes realizam aproximadamente 3 chamadas de suporte. Esse valor representa a média de interações dos clientes com o suporte técnico da empresa.\n",
        "\n"
      ],
      "metadata": {
        "id": "vCHUGx5DYvS0"
      }
    },
    {
      "cell_type": "markdown",
      "source": [
        "\n",
        "#**6.** Qual é o método de pagamento mais comum entre os clientes?"
      ],
      "metadata": {
        "id": "CP_JFtO1Y8on"
      }
    },
    {
      "cell_type": "code",
      "source": [
        "metodo_pagamento_comum = dados_churn['Payment Delay'].value_counts().idxmax()\n",
        "print(f\"O método de pagamento mais comum entre os clientes é: {metodo_pagamento_comum}\")\n"
      ],
      "metadata": {
        "colab": {
          "base_uri": "https://localhost:8080/"
        },
        "id": "BDjKnVP0ZA1L",
        "outputId": "e28a0c43-6efb-4594-cdad-8637b000e1b3"
      },
      "execution_count": 30,
      "outputs": [
        {
          "output_type": "stream",
          "name": "stdout",
          "text": [
            "O método de pagamento mais comum entre os clientes é: 12.0\n"
          ]
        }
      ]
    },
    {
      "cell_type": "markdown",
      "source": [
        "#**7.** Qual é o tipo de assinatura mais comum entre os clientes?"
      ],
      "metadata": {
        "id": "Isiwy4-BZUzq"
      }
    },
    {
      "cell_type": "code",
      "source": [
        "tipo_assinatura_comum = dados_churn['Subscription Type'].value_counts().idxmax()\n",
        "print(f\"O tipo de assinatura mais comum entre os clientes é: {tipo_assinatura_comum}\")\n"
      ],
      "metadata": {
        "colab": {
          "base_uri": "https://localhost:8080/"
        },
        "id": "2Ly1-GuiZbiC",
        "outputId": "7acf4f90-2460-439e-96b0-89fc4ba82d32"
      },
      "execution_count": 31,
      "outputs": [
        {
          "output_type": "stream",
          "name": "stdout",
          "text": [
            "O tipo de assinatura mais comum entre os clientes é: Standard\n"
          ]
        }
      ]
    },
    {
      "cell_type": "markdown",
      "source": [
        "#**8.** Qual é o comprimento médio do contrato entre a empresa e os clientes?"
      ],
      "metadata": {
        "id": "DfDRosCiZmx9"
      }
    },
    {
      "cell_type": "code",
      "source": [
        "contagem_contratos = dados_churn['Contract Length'].value_counts()\n",
        "print(\"Contagem de valores da coluna 'Contract Length':\")\n",
        "print(contagem_contratos)"
      ],
      "metadata": {
        "colab": {
          "base_uri": "https://localhost:8080/"
        },
        "id": "Jw6MWZsSZ2Je",
        "outputId": "e8033ae0-d7ed-4dc2-951c-18ce73586641"
      },
      "execution_count": 32,
      "outputs": [
        {
          "output_type": "stream",
          "name": "stdout",
          "text": [
            "Contagem de valores da coluna 'Contract Length':\n",
            "Annual       177198\n",
            "Quarterly    176530\n",
            "Monthly       87104\n",
            "Name: Contract Length, dtype: int64\n"
          ]
        }
      ]
    },
    {
      "cell_type": "code",
      "source": [
        "# Atribuindo valores numéricos para cada tipo de contrato\n",
        "valores_contratos = {\"Monthly\": 1, \"Annual\": 12, \"Quarterly\": 3}\n",
        "\n",
        "# Calculando a média ponderada do comprimento do contrato\n",
        "soma_pesos = sum(contagem_contratos[contrato] * valores_contratos[contrato] for contrato in contagem_contratos.index)\n",
        "total_contratos = sum(contagem_contratos)\n",
        "\n",
        "media_contrato = soma_pesos / total_contratos\n",
        "media_arredondada = round(media_contrato)\n",
        "\n",
        "print(f\"A média do comprimento do contrato é de aproximadamente {media_arredondada} meses.\")"
      ],
      "metadata": {
        "colab": {
          "base_uri": "https://localhost:8080/"
        },
        "id": "t0ZrjBPEaNzQ",
        "outputId": "3604bcf7-f469-4cd1-ccd4-3653a554d5cd"
      },
      "execution_count": 33,
      "outputs": [
        {
          "output_type": "stream",
          "name": "stdout",
          "text": [
            "A média do comprimento do contrato é de aproximadamente 6 meses.\n"
          ]
        }
      ]
    },
    {
      "cell_type": "markdown",
      "source": [
        "#**9.** Qual é o gasto total médio dos clientes em serviços ou produtos da empresa?"
      ],
      "metadata": {
        "id": "W2TXkiuplc3P"
      }
    },
    {
      "cell_type": "code",
      "source": [
        "media_gasto_total = dados_churn['Total Spend'].mean()\n",
        "print(f'O gasto total médio dos clientes é de aproximadamente ${media_gasto_total:.2f}.')\n"
      ],
      "metadata": {
        "colab": {
          "base_uri": "https://localhost:8080/"
        },
        "id": "JWIz3VT6limT",
        "outputId": "74265a95-4782-41ac-c472-fb99551d362c"
      },
      "execution_count": 34,
      "outputs": [
        {
          "output_type": "stream",
          "name": "stdout",
          "text": [
            "O gasto total médio dos clientes é de aproximadamente $631.62.\n"
          ]
        }
      ]
    },
    {
      "cell_type": "markdown",
      "source": [
        "#**10.** Qual é a data da última interação registrada entre os clientes e a empresa?\n"
      ],
      "metadata": {
        "id": "ydT4wn1pmPlM"
      }
    },
    {
      "cell_type": "code",
      "source": [
        "ultima_interacao = dados_churn['Last Interaction'].max()\n",
        "print(f'A data da última interação registrada entre os clientes e a empresa é: {ultima_interacao}')\n"
      ],
      "metadata": {
        "colab": {
          "base_uri": "https://localhost:8080/"
        },
        "id": "z_sAJUPmmVou",
        "outputId": "c5fce44d-6dd1-4a16-f0a5-d7714db31734"
      },
      "execution_count": 35,
      "outputs": [
        {
          "output_type": "stream",
          "name": "stdout",
          "text": [
            "A data da última interação registrada entre os clientes e a empresa é: 30.0\n"
          ]
        }
      ]
    },
    {
      "cell_type": "markdown",
      "source": [
        "## Última Interação com a Empresa\n",
        "\n",
        "Ao analisar os dados, identifiquei que a data da última interação registrada entre os clientes e a empresa é representada como \"30.0\". Isso indica que a data mais recente registrada em nosso conjunto de dados é o dia 30 do mês.\n"
      ],
      "metadata": {
        "id": "8Jh8zykAnBHn"
      }
    },
    {
      "cell_type": "markdown",
      "source": [
        "#**11.** Qual é a taxa de churn (cancelamento de serviço) dos clientes?"
      ],
      "metadata": {
        "id": "67GMTv6Xneng"
      }
    },
    {
      "cell_type": "code",
      "source": [
        "churn_count = dados_churn['Churn'].sum()\n",
        "total_clientes = len(dados_churn)\n",
        "\n",
        "# Cálculo da taxa de churn\n",
        "taxa_churn = churn_count / total_clientes\n",
        "\n",
        "print(\"Taxa de churn dos clientes:\", taxa_churn)\n"
      ],
      "metadata": {
        "colab": {
          "base_uri": "https://localhost:8080/"
        },
        "id": "6NfYV_-EoF0M",
        "outputId": "015b5c1e-f919-49cc-fc7a-abdec9ba1f42"
      },
      "execution_count": 36,
      "outputs": [
        {
          "output_type": "stream",
          "name": "stdout",
          "text": [
            "Taxa de churn dos clientes: 0.5671071972996515\n"
          ]
        }
      ]
    },
    {
      "cell_type": "markdown",
      "source": [
        "## Taxa de Churn\n",
        "\n",
        "A taxa de churn (cancelamento de serviço) dos clientes é de aproximadamente 0.56. Isso significa que mais da metade dos clientes cancelaram o serviço oferecido pela empresa durante o período da amostra analisada."
      ],
      "metadata": {
        "id": "H1UuuHtDos9n"
      }
    },
    {
      "cell_type": "markdown",
      "source": [
        "#**12.** Há alguma relação entre a idade dos clientes e a probabilidade de churn?"
      ],
      "metadata": {
        "id": "HdArGNOFqQ4F"
      }
    },
    {
      "cell_type": "code",
      "source": [
        "correlation = dados_churn['Age'].corr(dados_churn['Churn'])\n",
        "print(f\"Correlação entre Idade dos Clientes e Churn: {correlation}\")\n"
      ],
      "metadata": {
        "colab": {
          "base_uri": "https://localhost:8080/"
        },
        "id": "dGdOL2g9qjLm",
        "outputId": "e487d18a-b3f5-4601-9a9c-8822711c40cc"
      },
      "execution_count": 37,
      "outputs": [
        {
          "output_type": "stream",
          "name": "stdout",
          "text": [
            "Correlação entre Idade dos Clientes e Churn: 0.218393918577108\n"
          ]
        }
      ]
    },
    {
      "cell_type": "code",
      "source": [
        "# Calculando o coeficiente de correlação de Spearman\n",
        "correlation, p_value = scipy.stats.spearmanr(dados_churn['Age'], dados_churn['Churn'])\n",
        "print(\"Coeficiente de Correlação de Spearman:\", correlation)\n",
        "print(\"Valor-p:\", p_value)\n"
      ],
      "metadata": {
        "colab": {
          "base_uri": "https://localhost:8080/"
        },
        "id": "h279SEJIrDD3",
        "outputId": "22a89bf5-29dc-457d-b21f-33d0a34dcab5"
      },
      "execution_count": 38,
      "outputs": [
        {
          "output_type": "stream",
          "name": "stdout",
          "text": [
            "Coeficiente de Correlação de Spearman: 0.1961588060035336\n",
            "Valor-p: 0.0\n"
          ]
        }
      ]
    },
    {
      "cell_type": "code",
      "source": [
        "#teste qui-quadrado\n",
        "\n",
        "# Criando uma tabela de contingência entre idade e churn\n",
        "contingency_table = pd.crosstab(dados_churn['Age'], dados_churn['Churn'])\n",
        "\n",
        "#teste qui-quadrado\n",
        "chi2, p, dof, expected = chi2_contingency(contingency_table)\n",
        "print(\"Estatística Qui-Quadrado:\", chi2)\n",
        "print(\"Valor-p:\", p)\n"
      ],
      "metadata": {
        "colab": {
          "base_uri": "https://localhost:8080/"
        },
        "id": "necWxmJZrkq3",
        "outputId": "db48d3cf-3ac9-44ae-c344-c112fc66f166"
      },
      "execution_count": 39,
      "outputs": [
        {
          "output_type": "stream",
          "name": "stdout",
          "text": [
            "Estatística Qui-Quadrado: 83259.17427063093\n",
            "Valor-p: 0.0\n"
          ]
        }
      ]
    },
    {
      "cell_type": "markdown",
      "source": [
        "## Relação entre Idade dos Clientes e Probabilidade de Churn\n",
        "\n",
        "Ao analisar a relação entre a idade dos clientes e a probabilidade de churn, calculei dois indicadores estatísticos importantes: o coeficiente de correlação de Spearman e o teste Qui-Quadrado.\n",
        "\n",
        "O coeficiente de correlação de Spearman resultou em um valor de aproximadamente 0.196, indicando uma correlação positiva fraca entre a idade dos clientes e a probabilidade de churn. No entanto, essa associação é estatisticamente significativa, como evidenciado pelo valor-p próximo a zero.\n",
        "\n",
        "Além disso, realizei o teste Qui-Quadrado, que mostrou uma estatística Qui-Quadrado alta de cerca de 83259 e um valor-p praticamente zero. Isso confirma a existência de uma associação estatisticamente significativa entre a idade dos clientes e o churn.\n",
        "\n",
        "Esses resultados sugerem que a idade dos clientes tem uma influência estatisticamente significativa na probabilidade de churn. No entanto, a correlação é relativamente fraca, o que indica que outros fatores podem estar desempenhando um papel mais forte na determinação do churn dos clientes.\n"
      ],
      "metadata": {
        "id": "uam4q6iUs-NG"
      }
    },
    {
      "cell_type": "markdown",
      "source": [
        "\n",
        "#**13.** Como o gênero dos clientes influencia a taxa de churn?"
      ],
      "metadata": {
        "id": "DdjgvGxQu7mJ"
      }
    },
    {
      "cell_type": "markdown",
      "source": [
        "Hipótese nula (H0): Não há associação entre o gênero dos clientes e a taxa de churn.\n",
        "\n",
        "Hipótese alternativa (H1): Existe uma associação entre o gênero dos clientes e a taxa de churn."
      ],
      "metadata": {
        "id": "cV_n7JiBvM35"
      }
    },
    {
      "cell_type": "code",
      "source": [
        "#Teste de Hipóstese\n",
        "# Criando uma tabela de contingência entre as variáveis Gênero e Churn\n",
        "contingency_table = pd.crosstab(dados_churn['Gender'], dados_churn['Churn'])\n",
        "\n",
        "# Realizando o teste qui-quadrado\n",
        "chi2, p_valor, _, _ = chi2_contingency(contingency_table)\n",
        "\n",
        "print(f\"Valor qui-quadrado: {chi2}\")\n",
        "print(f\"Valor-p: {p_valor}\")\n"
      ],
      "metadata": {
        "colab": {
          "base_uri": "https://localhost:8080/"
        },
        "id": "v4Oyl0fBvNlx",
        "outputId": "29bc23d0-9797-4c9d-fc59-47c88a723bd3"
      },
      "execution_count": 40,
      "outputs": [
        {
          "output_type": "stream",
          "name": "stdout",
          "text": [
            "Valor qui-quadrado: 13560.734707741449\n",
            "Valor-p: 0.0\n"
          ]
        }
      ]
    },
    {
      "cell_type": "markdown",
      "source": [
        "**Resultado do Teste de Hipótese:**\n",
        "\n",
        "Com base no resultado do teste qui-quadrado, que revelou um valor-p muito próximo de zero, podemos rejeitar a hipótese nula de que não há relação entre o gênero dos clientes e a taxa de churn. Isso indica que há uma associação estatisticamente significativa entre o gênero dos clientes e a probabilidade de cancelamento do serviço.\n",
        "\n",
        "No entanto, é importante ressaltar que o teste qui-quadrado apenas confirma a presença de uma associação, mas não fornece informações sobre a direção ou a magnitude dessa associação. Portanto, análises adicionais são necessárias para entender melhor a natureza dessa relação. Isso pode incluir a comparação das taxas de churn entre diferentes grupos de gênero, análises de regressão para avaliar o impacto do gênero no churn controlando outras variáveis, e investigações qualitativas para identificar possíveis razões por trás das diferenças na taxa de churn entre homens e mulheres. Essas análises mais detalhadas podem fornecer insights valiosos para orientar estratégias de retenção de clientes e melhorar a experiência do cliente.\n"
      ],
      "metadata": {
        "id": "UaRay3_mwUdj"
      }
    },
    {
      "cell_type": "markdown",
      "source": [
        "#**14.** Existem diferenças na taxa de churn entre os diferentes tipos de assinatura?"
      ],
      "metadata": {
        "id": "PpO8S1yFw3mU"
      }
    },
    {
      "cell_type": "code",
      "source": [
        "import pandas as pd\n",
        "\n",
        "# Calcular a taxa de churn para cada tipo de assinatura\n",
        "churn_rate = dados_churn.groupby('Subscription Type')['Churn'].mean()\n",
        "\n",
        "# Exibir os resultados\n",
        "print(\"Taxa de Churn por Tipo de Assinatura:\")\n",
        "print(churn_rate)\n"
      ],
      "metadata": {
        "colab": {
          "base_uri": "https://localhost:8080/"
        },
        "id": "GJeaR6o2yw_8",
        "outputId": "ebc2c434-6c38-4ca1-f6de-c2d6984001b5"
      },
      "execution_count": 41,
      "outputs": [
        {
          "output_type": "stream",
          "name": "stdout",
          "text": [
            "Taxa de Churn por Tipo de Assinatura:\n",
            "Subscription Type\n",
            "Basic       0.581782\n",
            "Premium     0.559417\n",
            "Standard    0.560700\n",
            "Name: Churn, dtype: float64\n"
          ]
        }
      ]
    },
    {
      "cell_type": "markdown",
      "source": [
        "## Taxa de Churn por Tipo de Assinatura\n",
        "\n",
        "Ao analisar a taxa de churn por tipo de assinatura, notei que as diferenças entre elas são sutis. Embora existam variações entre as taxas de churn de cada tipo de assinatura, todas elas estão em uma faixa próxima. Isso sugere que as estratégias de retenção de clientes devem ser aplicadas de maneira equitativa em todos os tipos de assinatura para garantir a fidelidade do cliente.\n",
        "\n",
        "\n",
        "\n"
      ],
      "metadata": {
        "id": "Zu1yEnba0Vms"
      }
    },
    {
      "cell_type": "code",
      "source": [],
      "metadata": {
        "id": "GHNP_zvp0fRX"
      },
      "execution_count": 41,
      "outputs": []
    }
  ]
}